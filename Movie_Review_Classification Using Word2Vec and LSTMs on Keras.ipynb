{
 "cells": [
  {
   "cell_type": "markdown",
   "metadata": {
    "id": "Xs2eKRmaKLPn"
   },
   "source": [
    "# Movie Review Classification\n",
    "\n",
    "**Sentiment classification** is the automated process of identifying opinions in text and labeling them as positive, negative, or neutral, based on the emotions customers express within them.\n",
    "\n",
    "![https://en.wikipedia.org/wiki/Long_short-term_memory](movie_reviews.JPG \"https://en.wikipedia.org/wiki/Long_short-term_memory\")"
   ]
  },
  {
   "cell_type": "markdown",
   "metadata": {
    "id": "nmQ9nputKLPr"
   },
   "source": [
    "**Transfer learning** is a machine learning method where a model developed for a task is reused as the starting point for a model on a second task!\n",
    "\n",
    "**Word Embeddings** Definition Word embeddings are a type of word representation that look at the context of words which allows words with similar meaning to have a similar vector representation.\n",
    "\n",
    "\n",
    "1. Each word is represented as  a vector.\n",
    "\n",
    "2. Each word is mapped to one vector and the vector values are learned in a way that resembles a neural network.\n",
    "\n",
    "3. They can be considered an improvement over sparse representations used in simpler bag of word model representations.\n",
    "\n",
    "**Word2Vec**\n",
    "\n",
    "Word2Vec is a shallow, two-layer neural networks which is trained to reconstruct linguistic contexts of words.\n",
    "Input: Large Corpus of words\n",
    "\n",
    "\n",
    "Output: Vector Space, with each unique word in the corpus being assigned a corresponding vector in the space.\n",
    "\n",
    "\n",
    "Word vectors are positioned in the vector space such that words that share common contexts in the corpus are located in close proximity to one another in the space.\n",
    "\n",
    "\n",
    "**Deep Network** Deep network takes the sequence of embedding vectors as input and converts them to a compressed representation. The compressed representation effectively captures all the information in the sequence of words in the text. The deep neywrok part is usually an RNN or some forms of it like LSTM/GRU. The dropout is added to overcome the tendency to overfit, a very common problem with RNN based networks.\n",
    "\n",
    "**Recurrent Neural Networks** Recurrent Neural Networks are used to handle sequential data. One of the appeals of RNNs is the idea that they might be able to connect previous information to the present task, such as using previous video frames/words might inform the understanding of the present frame/words. \n",
    "\n",
    "\n",
    "Sometimes, we only need to look at recent information to perform the present task. But Unfortunately, as that gap grows, RNNs become unable to learn to connect the information.\n",
    "\n",
    "Standard RNNs fail to learn in the presence of time lags greater than 5 – 10 discrete time steps between relevant input events and target signals. The vanishing error problem casts doubt on whether standard RNNs can indeed exhibit significant practical advantages over time window-based feedforward networks. A recent model, “Long Short-Term Memory” (LSTM), is not affected by this problem. LSTM can learn to bridge minimal time lags in excess of 1000 discrete time steps by enforcing constant error flow through “constant error carrousels” (CECs) within special units, called cells\n",
    "\n",
    "**LSTM** Long Short Term Memory networks – usually just called “LSTMs” – are a special kind of RNN, capable of learning long-term dependencies. LSTMs are explicitly designed to avoid the long-term dependency problem. Remembering information for long periods of time is practically their default behavior, not something they struggle to learn!\n",
    "\n",
    "![https://en.wikipedia.org/wiki/Long_short-term_memory](lstm.JPG \"https://en.wikipedia.org/wiki/Long_short-term_memory\")"
   ]
  },
  {
   "cell_type": "code",
   "execution_count": 1,
   "metadata": {
    "colab": {
     "base_uri": "https://localhost:8080/"
    },
    "executionInfo": {
     "elapsed": 3025,
     "status": "ok",
     "timestamp": 1614206303935,
     "user": {
      "displayName": "Ikenna Nwosu",
      "photoUrl": "https://lh3.googleusercontent.com/-2H_7UMFdOAs/AAAAAAAAAAI/AAAAAAAAAK8/OwPmt7MzO0s/s64/photo.jpg",
      "userId": "06467414860772016903"
     },
     "user_tz": 0
    },
    "id": "4aMcXLkHKLPt",
    "outputId": "791f4cd9-eec3-4f24-b10d-3e9c568facf7"
   },
   "outputs": [
    {
     "name": "stderr",
     "output_type": "stream",
     "text": [
      "[nltk_data] Downloading package stopwords to\n",
      "[nltk_data]     /home/kositech/nltk_data...\n",
      "[nltk_data]   Package stopwords is already up-to-date!\n",
      "[nltk_data] Downloading package punkt to /home/kositech/nltk_data...\n",
      "[nltk_data]   Package punkt is already up-to-date!\n"
     ]
    },
    {
     "data": {
      "text/plain": [
       "True"
      ]
     },
     "execution_count": 1,
     "metadata": {},
     "output_type": "execute_result"
    }
   ],
   "source": [
    "import os\n",
    "import nltk\n",
    "import string\n",
    "import numpy as np\n",
    "import pandas as pd\n",
    "import matplotlib.pyplot as plt\n",
    "%matplotlib inline\n",
    "\n",
    "from tensorflow.python.keras.preprocessing.text import Tokenizer\n",
    "from tensorflow.python.keras.preprocessing.sequence import pad_sequences\n",
    "from keras.models import Sequential\n",
    "from keras.layers import Dense, Embedding, LSTM\n",
    "from keras.layers.embeddings import Embedding\n",
    "from keras.initializers import Constant\n",
    "\n",
    "import gensim\n",
    "from gensim.models import Word2Vec\n",
    "from nltk.tokenize import word_tokenize\n",
    "from nltk.corpus import stopwords\n",
    "nltk.download('stopwords')\n",
    "nltk.download('punkt')"
   ]
  },
  {
   "cell_type": "markdown",
   "metadata": {
    "id": "6fDN-KRlKLPu"
   },
   "source": [
    "## Loading Data "
   ]
  },
  {
   "cell_type": "code",
   "execution_count": 2,
   "metadata": {
    "colab": {
     "base_uri": "https://localhost:8080/",
     "height": 204
    },
    "executionInfo": {
     "elapsed": 847,
     "status": "ok",
     "timestamp": 1614206438601,
     "user": {
      "displayName": "Ikenna Nwosu",
      "photoUrl": "https://lh3.googleusercontent.com/-2H_7UMFdOAs/AAAAAAAAAAI/AAAAAAAAAK8/OwPmt7MzO0s/s64/photo.jpg",
      "userId": "06467414860772016903"
     },
     "user_tz": 0
    },
    "id": "P9xS9BDlKLPu",
    "outputId": "387304cd-e11a-40fa-8256-9104b5067857"
   },
   "outputs": [
    {
     "data": {
      "text/html": [
       "<div>\n",
       "<style scoped>\n",
       "    .dataframe tbody tr th:only-of-type {\n",
       "        vertical-align: middle;\n",
       "    }\n",
       "\n",
       "    .dataframe tbody tr th {\n",
       "        vertical-align: top;\n",
       "    }\n",
       "\n",
       "    .dataframe thead th {\n",
       "        text-align: right;\n",
       "    }\n",
       "</style>\n",
       "<table border=\"1\" class=\"dataframe\">\n",
       "  <thead>\n",
       "    <tr style=\"text-align: right;\">\n",
       "      <th></th>\n",
       "      <th>review</th>\n",
       "      <th>sentiment</th>\n",
       "    </tr>\n",
       "  </thead>\n",
       "  <tbody>\n",
       "    <tr>\n",
       "      <th>0</th>\n",
       "      <td>I went and saw this movie last night after bei...</td>\n",
       "      <td>1</td>\n",
       "    </tr>\n",
       "    <tr>\n",
       "      <th>1</th>\n",
       "      <td>Actor turned director Bill Paxton follows up h...</td>\n",
       "      <td>1</td>\n",
       "    </tr>\n",
       "    <tr>\n",
       "      <th>2</th>\n",
       "      <td>As a recreational golfer with some knowledge o...</td>\n",
       "      <td>1</td>\n",
       "    </tr>\n",
       "    <tr>\n",
       "      <th>3</th>\n",
       "      <td>I saw this film in a sneak preview, and it is ...</td>\n",
       "      <td>1</td>\n",
       "    </tr>\n",
       "    <tr>\n",
       "      <th>4</th>\n",
       "      <td>Bill Paxton has taken the true story of the 19...</td>\n",
       "      <td>1</td>\n",
       "    </tr>\n",
       "  </tbody>\n",
       "</table>\n",
       "</div>"
      ],
      "text/plain": [
       "                                              review  sentiment\n",
       "0  I went and saw this movie last night after bei...          1\n",
       "1  Actor turned director Bill Paxton follows up h...          1\n",
       "2  As a recreational golfer with some knowledge o...          1\n",
       "3  I saw this film in a sneak preview, and it is ...          1\n",
       "4  Bill Paxton has taken the true story of the 19...          1"
      ]
     },
     "execution_count": 2,
     "metadata": {},
     "output_type": "execute_result"
    }
   ],
   "source": [
    "df = pd.read_csv(\"IMDB_movie_reviews.csv\", encoding='utf-8')\n",
    "df.head()"
   ]
  },
  {
   "cell_type": "markdown",
   "metadata": {
    "id": "v87o-et7KLPv"
   },
   "source": [
    "\n",
    "# Data Preprocessing\n",
    "\n",
    "1. **Tokenization** is a way of separating a piece of text into smaller units called tokens. Here, tokens can be either words, characters, or subwords.\n",
    "\n",
    "2. Removing **Punctuations**\n",
    "\n",
    "3. Removing tokens which are not alphabetic\n",
    "\n",
    "4. **Stopwords Removal**: A stop word is a commonly used word (such as “the”, “a”, “an”, “in”) \n",
    "\n",
    "\n"
   ]
  },
  {
   "cell_type": "code",
   "execution_count": 3,
   "metadata": {
    "executionInfo": {
     "elapsed": 117964,
     "status": "ok",
     "timestamp": 1614207579349,
     "user": {
      "displayName": "Ikenna Nwosu",
      "photoUrl": "https://lh3.googleusercontent.com/-2H_7UMFdOAs/AAAAAAAAAAI/AAAAAAAAAK8/OwPmt7MzO0s/s64/photo.jpg",
      "userId": "06467414860772016903"
     },
     "user_tz": 0
    },
    "id": "doWAQ-NiKLPv"
   },
   "outputs": [],
   "source": [
    "review_lines = list()\n",
    "\n",
    "lines = df['review'].values.tolist()\n",
    "\n",
    "for line in lines:\n",
    "    tokens = word_tokenize(line)\n",
    "    tokens = [word.lower() for word in tokens]\n",
    "    table = str.maketrans('','',string.punctuation) # table to remove punctuations\n",
    "    stripped = [word.translate(table) for word in tokens] # removes punctuations from tokens\n",
    "    words = [word for word in stripped if word.isalpha()] # removes all numeric characters\n",
    "    stop_words = set(stopwords.words('english')) # returns only unique stop words\n",
    "    words = [word for word in words if not word in stop_words]\n",
    "    review_lines.append(words)\n",
    "  "
   ]
  },
  {
   "cell_type": "markdown",
   "metadata": {
    "id": "hTEVsGjxKLPv"
   },
   "source": [
    "**Word2Vec** is a simple Neural Network with one hidden layer & has weights and during training, its goal is to adjust those weights to reduce the loss function.\n",
    "\n",
    "During the training, weights are adjusted through back-propagation. Once the training is completed, instead of taking the entire model, we just take the **hidden weights** which are our word embeddings.\n",
    "\n",
    "Word vectors are positioned in the vector space such that words that share common contexts in the corpus are located in close proximity to one another in the space.\n",
    "\n",
    "Gensim is an Open Source Python Library which can be used to implement Word2Vec."
   ]
  },
  {
   "cell_type": "code",
   "execution_count": 4,
   "metadata": {
    "colab": {
     "base_uri": "https://localhost:8080/"
    },
    "executionInfo": {
     "elapsed": 99298,
     "status": "ok",
     "timestamp": 1614207995796,
     "user": {
      "displayName": "Ikenna Nwosu",
      "photoUrl": "https://lh3.googleusercontent.com/-2H_7UMFdOAs/AAAAAAAAAAI/AAAAAAAAAK8/OwPmt7MzO0s/s64/photo.jpg",
      "userId": "06467414860772016903"
     },
     "user_tz": 0
    },
    "id": "ZGeFo3zpKLPw",
    "outputId": "c4dfead6-6506-4d3c-c433-e08a9c9e5733"
   },
   "outputs": [
    {
     "name": "stdout",
     "output_type": "stream",
     "text": [
      "vocabulary size: 133255\n"
     ]
    }
   ],
   "source": [
    "EMBEDDING_DIM = 100\n",
    "\n",
    "model = gensim.models.Word2Vec(sentences=review_lines,\\\n",
    "                              size=EMBEDDING_DIM,\n",
    "                              window=5,\n",
    "                              min_count=1)\n",
    "words = list(model.wv.vocab)\n",
    "print(\"vocabulary size: %d\" % len(words))"
   ]
  },
  {
   "cell_type": "markdown",
   "metadata": {
    "id": "eDDfL5SuKLPy"
   },
   "source": [
    "Lets test our Word2Vec Model to see how it performs using utility functions provided in Gensim"
   ]
  },
  {
   "cell_type": "code",
   "execution_count": 5,
   "metadata": {
    "colab": {
     "base_uri": "https://localhost:8080/"
    },
    "executionInfo": {
     "elapsed": 341,
     "status": "ok",
     "timestamp": 1614207996151,
     "user": {
      "displayName": "Ikenna Nwosu",
      "photoUrl": "https://lh3.googleusercontent.com/-2H_7UMFdOAs/AAAAAAAAAAI/AAAAAAAAAK8/OwPmt7MzO0s/s64/photo.jpg",
      "userId": "06467414860772016903"
     },
     "user_tz": 0
    },
    "id": "Os9MjefBKLPy",
    "outputId": "f0ee1472-7bc3-489f-99b6-8e89e5bb234e"
   },
   "outputs": [
    {
     "data": {
      "text/plain": [
       "[('filmmaker', 0.7681677341461182),\n",
       " ('directors', 0.6689101457595825),\n",
       " ('screenwriter', 0.64381343126297),\n",
       " ('writerdirector', 0.6389172077178955),\n",
       " ('editor', 0.62381511926651),\n",
       " ('altman', 0.6215569972991943),\n",
       " ('writer', 0.6175328493118286),\n",
       " ('directorial', 0.6120585799217224),\n",
       " ('firsttime', 0.6048907041549683),\n",
       " ('filmmakers', 0.5963592529296875)]"
      ]
     },
     "execution_count": 5,
     "metadata": {},
     "output_type": "execute_result"
    }
   ],
   "source": [
    "model.wv.most_similar(\"director\")"
   ]
  },
  {
   "cell_type": "markdown",
   "metadata": {
    "id": "lMb1q7DXKLPy"
   },
   "source": [
    "Let’s see the result of semantically reasonable word vectors (actress - actor + heroine)\n"
   ]
  },
  {
   "cell_type": "code",
   "execution_count": 6,
   "metadata": {
    "colab": {
     "base_uri": "https://localhost:8080/"
    },
    "executionInfo": {
     "elapsed": 419,
     "status": "ok",
     "timestamp": 1614208061357,
     "user": {
      "displayName": "Ikenna Nwosu",
      "photoUrl": "https://lh3.googleusercontent.com/-2H_7UMFdOAs/AAAAAAAAAAI/AAAAAAAAAK8/OwPmt7MzO0s/s64/photo.jpg",
      "userId": "06467414860772016903"
     },
     "user_tz": 0
    },
    "id": "A0haC83RKLPz",
    "outputId": "b2cc129b-aae5-4385-aa7f-991d16b9f37d"
   },
   "outputs": [
    {
     "data": {
      "text/plain": [
       "[('vulnerable', 0.7034505605697632),\n",
       " ('protagonist', 0.6997748613357544),\n",
       " ('sexually', 0.6971295475959778),\n",
       " ('nurse', 0.690212070941925),\n",
       " ('seductive', 0.6803062558174133),\n",
       " ('housewife', 0.6793493032455444),\n",
       " ('incestuous', 0.6779158711433411),\n",
       " ('damsel', 0.6777342557907104),\n",
       " ('attraction', 0.6702497005462646),\n",
       " ('stepmother', 0.6658858060836792)]"
      ]
     },
     "execution_count": 6,
     "metadata": {},
     "output_type": "execute_result"
    }
   ],
   "source": [
    "model.wv.most_similar(positive=[\"actress\", \"heroine\"], negative=['actor'])"
   ]
  },
  {
   "cell_type": "markdown",
   "metadata": {
    "id": "Kx_TAPinKLPz"
   },
   "source": [
    "**Odd One out** - Finding the odd word out of the given list of words"
   ]
  },
  {
   "cell_type": "code",
   "execution_count": 7,
   "metadata": {
    "colab": {
     "base_uri": "https://localhost:8080/"
    },
    "executionInfo": {
     "elapsed": 178,
     "status": "ok",
     "timestamp": 1614208186727,
     "user": {
      "displayName": "Ikenna Nwosu",
      "photoUrl": "https://lh3.googleusercontent.com/-2H_7UMFdOAs/AAAAAAAAAAI/AAAAAAAAAK8/OwPmt7MzO0s/s64/photo.jpg",
      "userId": "06467414860772016903"
     },
     "user_tz": 0
    },
    "id": "wVKNBK85KLPz",
    "outputId": "4fc8c9ba-1ccc-404d-eac8-49c617543042"
   },
   "outputs": [
    {
     "name": "stdout",
     "output_type": "stream",
     "text": [
      "car\n"
     ]
    },
    {
     "name": "stderr",
     "output_type": "stream",
     "text": [
      "/home/kositech/anaconda3/lib/python3.8/site-packages/gensim/models/keyedvectors.py:877: FutureWarning: arrays to stack must be passed as a \"sequence\" type such as list or tuple. Support for non-sequence iterables such as generators is deprecated as of NumPy 1.16 and will raise an error in the future.\n",
      "  vectors = vstack(self.word_vec(word, use_norm=True) for word in used_words).astype(REAL)\n"
     ]
    }
   ],
   "source": [
    "print(model.wv.doesnt_match(\"film movie theatre car\".split()))"
   ]
  },
  {
   "cell_type": "markdown",
   "metadata": {
    "id": "Kls2NbaiKLPz"
   },
   "source": [
    "## Save model in ASCII (word2vec) format"
   ]
  },
  {
   "cell_type": "code",
   "execution_count": 8,
   "metadata": {
    "executionInfo": {
     "elapsed": 12616,
     "status": "ok",
     "timestamp": 1614208258182,
     "user": {
      "displayName": "Ikenna Nwosu",
      "photoUrl": "https://lh3.googleusercontent.com/-2H_7UMFdOAs/AAAAAAAAAAI/AAAAAAAAAK8/OwPmt7MzO0s/s64/photo.jpg",
      "userId": "06467414860772016903"
     },
     "user_tz": 0
    },
    "id": "h-BJ6M8GKLP0"
   },
   "outputs": [],
   "source": [
    "filename = \"imdb_embedding_word2vec.txt\"\n",
    "model.wv.save_word2vec_format(filename, binary=False)"
   ]
  },
  {
   "cell_type": "markdown",
   "metadata": {
    "id": "9ZwQhuRgKLP0"
   },
   "source": [
    "## Load the embeddings from the file into a dictionary"
   ]
  },
  {
   "cell_type": "code",
   "execution_count": 9,
   "metadata": {
    "executionInfo": {
     "elapsed": 3476,
     "status": "ok",
     "timestamp": 1614208460576,
     "user": {
      "displayName": "Ikenna Nwosu",
      "photoUrl": "https://lh3.googleusercontent.com/-2H_7UMFdOAs/AAAAAAAAAAI/AAAAAAAAAK8/OwPmt7MzO0s/s64/photo.jpg",
      "userId": "06467414860772016903"
     },
     "user_tz": 0
    },
    "id": "8HuwFcn-KLP0"
   },
   "outputs": [],
   "source": [
    "import os\n",
    "\n",
    "embeddings_index = {}\n",
    "f = open(\"imdb_embedding_word2vec.txt\", encoding='utf-8')\n",
    "for line in f:\n",
    "    values = line.split()\n",
    "    word = values[0]\n",
    "    coefs = np.asarray(values[1:])\n",
    "    embeddings_index[word] = coefs\n",
    "\n",
    "f.close()"
   ]
  },
  {
   "cell_type": "markdown",
   "metadata": {
    "id": "gDGzogHRKLP0"
   },
   "source": [
    "**Tokenization** is a way of separating a piece of text into smaller units called tokens. Here, tokens can be either words, characters, or subwords. \n",
    "\n",
    "**Padding** All the neural networks require to have inputs that have the same shape and size. However, when we pre-process and use the texts as inputs for our model e.g. LSTM, not all the sentences have the same length. In other words, naturally, some of the sentences are longer or shorter. We need to have the inputs with the same size, this is where the padding is necessary.\n",
    "\n",
    "**Splitting the data** "
   ]
  },
  {
   "cell_type": "code",
   "execution_count": 10,
   "metadata": {
    "colab": {
     "base_uri": "https://localhost:8080/"
    },
    "executionInfo": {
     "elapsed": 13694,
     "status": "ok",
     "timestamp": 1614208966617,
     "user": {
      "displayName": "Ikenna Nwosu",
      "photoUrl": "https://lh3.googleusercontent.com/-2H_7UMFdOAs/AAAAAAAAAAI/AAAAAAAAAK8/OwPmt7MzO0s/s64/photo.jpg",
      "userId": "06467414860772016903"
     },
     "user_tz": 0
    },
    "id": "0WOhhFuzKLP1",
    "outputId": "cd27da82-e884-4c3d-9b8f-eef75a22482c"
   },
   "outputs": [
    {
     "name": "stdout",
     "output_type": "stream",
     "text": [
      "(50000, 100)\n",
      "(50000,)\n"
     ]
    }
   ],
   "source": [
    "VALIDATION_SPLIT = 0.2\n",
    "\n",
    "tokenizer_obj = Tokenizer()\n",
    "tokenizer_obj.fit_on_texts(review_lines)\n",
    "sequences = tokenizer_obj.texts_to_sequences(review_lines)\n",
    "\n",
    "max_length = 100\n",
    "\n",
    "word_index = tokenizer_obj.word_index\n",
    "\n",
    "review_pad = pad_sequences(sequences, maxlen=max_length)\n",
    "sentiment = df[\"sentiment\"].values\n",
    "\n",
    "print(review_pad.shape)\n",
    "print(sentiment.shape)\n",
    "\n",
    "indices = np.arange(review_pad.shape[0])\n",
    "np.random.shuffle(indices)\n",
    "review_pad = review_pad[indices]\n",
    "sentiment = sentiment[indices]\n",
    "num_validation_samples = int(VALIDATION_SPLIT*review_pad.shape[0])\n",
    "\n",
    "X_val_pad = review_pad[:num_validation_samples]\n",
    "y_val = sentiment[:num_validation_samples]\n",
    "\n",
    "X_train_pad = review_pad[num_validation_samples:]\n",
    "y_train = sentiment[num_validation_samples:]"
   ]
  },
  {
   "cell_type": "markdown",
   "metadata": {
    "id": "8KE3gPrQKLP3"
   },
   "source": [
    "## Splitting Train data further into Train & Test Sets"
   ]
  },
  {
   "cell_type": "code",
   "execution_count": 11,
   "metadata": {
    "colab": {
     "base_uri": "https://localhost:8080/"
    },
    "executionInfo": {
     "elapsed": 226,
     "status": "ok",
     "timestamp": 1614209324848,
     "user": {
      "displayName": "Ikenna Nwosu",
      "photoUrl": "https://lh3.googleusercontent.com/-2H_7UMFdOAs/AAAAAAAAAAI/AAAAAAAAAK8/OwPmt7MzO0s/s64/photo.jpg",
      "userId": "06467414860772016903"
     },
     "user_tz": 0
    },
    "id": "ysxsTYxZKLP3",
    "outputId": "92a575c6-bcb5-480d-b293-02aaaa196853"
   },
   "outputs": [
    {
     "name": "stdout",
     "output_type": "stream",
     "text": [
      "(36000, 100)\n",
      "(36000,)\n",
      "(10000, 100)\n",
      "(10000,)\n",
      "(4000, 100)\n",
      "(4000,)\n"
     ]
    }
   ],
   "source": [
    "TEST_SPLIT = 0.1\n",
    "\n",
    "num_test_samples = int(TEST_SPLIT*X_train_pad.shape[0])\n",
    "\n",
    "X_test_pad = X_train_pad[:num_test_samples]\n",
    "y_test = y_train[:num_test_samples]\n",
    "\n",
    "X_train_pad = X_train_pad[num_test_samples:]\n",
    "y_train = y_train[num_test_samples:]\n",
    "\n",
    "print(X_train_pad.shape)\n",
    "print(y_train.shape)\n",
    "\n",
    "print(X_val_pad.shape)\n",
    "print(y_val.shape)\n",
    "\n",
    "print(X_test_pad.shape)\n",
    "print(y_test.shape)\n"
   ]
  },
  {
   "cell_type": "markdown",
   "metadata": {
    "id": "mtL8u3wMKLP4"
   },
   "source": [
    "## Creating an Embedding Matrix"
   ]
  },
  {
   "cell_type": "code",
   "execution_count": 13,
   "metadata": {
    "executionInfo": {
     "elapsed": 6059,
     "status": "ok",
     "timestamp": 1614209907041,
     "user": {
      "displayName": "Ikenna Nwosu",
      "photoUrl": "https://lh3.googleusercontent.com/-2H_7UMFdOAs/AAAAAAAAAAI/AAAAAAAAAK8/OwPmt7MzO0s/s64/photo.jpg",
      "userId": "06467414860772016903"
     },
     "user_tz": 0
    },
    "id": "FezytEI0KLP4"
   },
   "outputs": [],
   "source": [
    "EMBEDDING_DIM = 100\n",
    "num_words = len(word_index) + 1\n",
    "embeddings_matrix = np.zeros((num_words, EMBEDDING_DIM))\n",
    "\n",
    "for word, i in word_index.items():\n",
    "    if i > num_words:\n",
    "        continue\n",
    "    embedding_vector = embeddings_index.get(word)\n",
    "    if embedding_vector is not None:\n",
    "        embeddings_matrix[i] = embedding_vector\n"
   ]
  },
  {
   "cell_type": "markdown",
   "metadata": {
    "id": "22DDzPf9KLP4"
   },
   "source": [
    "## Training \n",
    "\n",
    "Defining the Model\n",
    "\n",
    "In Keras, A **Sequential model** is appropriate for a plain stack of layers where each layer has exactly one input tensor and one output tensor.\n",
    "1. Load pre-trained word embeddings into an Embedding layer\n",
    "\n",
    "2. Adding LSTM Layer\n",
    "\n",
    "3. Adding Dense Layer\n",
    "\n",
    "**model.compile** used to Configures the model for training.\n",
    "\n",
    "\n",
    "**model.add()** function is used to add layers to our model."
   ]
  },
  {
   "cell_type": "code",
   "execution_count": 14,
   "metadata": {
    "colab": {
     "base_uri": "https://localhost:8080/"
    },
    "executionInfo": {
     "elapsed": 554,
     "status": "ok",
     "timestamp": 1614210206282,
     "user": {
      "displayName": "Ikenna Nwosu",
      "photoUrl": "https://lh3.googleusercontent.com/-2H_7UMFdOAs/AAAAAAAAAAI/AAAAAAAAAK8/OwPmt7MzO0s/s64/photo.jpg",
      "userId": "06467414860772016903"
     },
     "user_tz": 0
    },
    "id": "emcDoqyuKLP5",
    "outputId": "ae45d9f7-3307-447f-f5ae-203119dd7142"
   },
   "outputs": [
    {
     "name": "stdout",
     "output_type": "stream",
     "text": [
      "Summary of the built model..\n",
      "Model: \"sequential\"\n",
      "_________________________________________________________________\n",
      "Layer (type)                 Output Shape              Param #   \n",
      "=================================================================\n",
      "embedding (Embedding)        (None, 100, 100)          13325600  \n",
      "_________________________________________________________________\n",
      "lstm (LSTM)                  (None, 32)                17024     \n",
      "_________________________________________________________________\n",
      "dense (Dense)                (None, 1)                 33        \n",
      "=================================================================\n",
      "Total params: 13,342,657\n",
      "Trainable params: 17,057\n",
      "Non-trainable params: 13,325,600\n",
      "_________________________________________________________________\n",
      "None\n"
     ]
    }
   ],
   "source": [
    "model = Sequential()\n",
    "embedding_layer = Embedding(num_words,\n",
    "                            EMBEDDING_DIM,\n",
    "                            embeddings_initializer=Constant(embeddings_matrix),\n",
    "                            input_length=max_length,\n",
    "                            trainable=False)\n",
    "model.add(embedding_layer)\n",
    "model.add(LSTM(units=32, dropout=0.2, recurrent_dropout=0.2))\n",
    "model.add(Dense(1, activation=\"sigmoid\"))\n",
    "\n",
    "model.compile(loss=\"binary_crossentropy\",\n",
    "              optimizer=\"adam\",\n",
    "              metrics=\"accuracy\")\n",
    "\n",
    "print(\"Summary of the built model..\")\n",
    "print(model.summary())"
   ]
  },
  {
   "cell_type": "markdown",
   "metadata": {
    "id": "olpzqHfTKLP5"
   },
   "source": [
    "## Training the Model\n",
    "\n",
    "Use the .fit method.\n",
    "\n",
    "Assign the model.fit() method to a variable, which will store the Training, Validation Loss and Accuracy for each epoch. "
   ]
  },
  {
   "cell_type": "code",
   "execution_count": 15,
   "metadata": {
    "colab": {
     "base_uri": "https://localhost:8080/"
    },
    "executionInfo": {
     "elapsed": 588329,
     "status": "ok",
     "timestamp": 1614210906048,
     "user": {
      "displayName": "Ikenna Nwosu",
      "photoUrl": "https://lh3.googleusercontent.com/-2H_7UMFdOAs/AAAAAAAAAAI/AAAAAAAAAK8/OwPmt7MzO0s/s64/photo.jpg",
      "userId": "06467414860772016903"
     },
     "user_tz": 0
    },
    "id": "AQvEcr8zKLP5",
    "outputId": "f4d525db-665e-4cf1-f8a2-26f77eb7bcfa"
   },
   "outputs": [
    {
     "name": "stdout",
     "output_type": "stream",
     "text": [
      "Epoch 1/10\n",
      "282/282 - 35s - loss: 0.4891 - accuracy: 0.7589 - val_loss: 0.3839 - val_accuracy: 0.8306\n",
      "Epoch 2/10\n",
      "282/282 - 32s - loss: 0.3787 - accuracy: 0.8329 - val_loss: 0.3581 - val_accuracy: 0.8466\n",
      "Epoch 3/10\n",
      "282/282 - 31s - loss: 0.3511 - accuracy: 0.8450 - val_loss: 0.3199 - val_accuracy: 0.8607\n",
      "Epoch 4/10\n",
      "282/282 - 32s - loss: 0.3331 - accuracy: 0.8549 - val_loss: 0.3243 - val_accuracy: 0.8610\n",
      "Epoch 5/10\n",
      "282/282 - 32s - loss: 0.3199 - accuracy: 0.8612 - val_loss: 0.3033 - val_accuracy: 0.8683\n",
      "Epoch 6/10\n",
      "282/282 - 30s - loss: 0.3132 - accuracy: 0.8632 - val_loss: 0.3012 - val_accuracy: 0.8678\n",
      "Epoch 7/10\n",
      "282/282 - 34s - loss: 0.3030 - accuracy: 0.8704 - val_loss: 0.2917 - val_accuracy: 0.8755\n",
      "Epoch 8/10\n",
      "282/282 - 31s - loss: 0.2956 - accuracy: 0.8733 - val_loss: 0.2877 - val_accuracy: 0.8736\n",
      "Epoch 9/10\n",
      "282/282 - 30s - loss: 0.2904 - accuracy: 0.8751 - val_loss: 0.3017 - val_accuracy: 0.8734\n",
      "Epoch 10/10\n",
      "282/282 - 31s - loss: 0.2856 - accuracy: 0.8777 - val_loss: 0.2974 - val_accuracy: 0.8747\n"
     ]
    }
   ],
   "source": [
    "history = model.fit(X_train_pad, y_train,\n",
    "                    batch_size=128,\n",
    "                    epochs=10,\n",
    "                    validation_data=(X_val_pad, y_val),\n",
    "                    verbose=2)"
   ]
  },
  {
   "cell_type": "markdown",
   "metadata": {
    "id": "PVuKrRBXKLP6"
   },
   "source": [
    "## Evaluating the Model on Test Set\n",
    "\n",
    "**Score** is the evaluation of the loss function for a given input.\n",
    "\n",
    "**Accuracy** How accurate your model's prediction is compared to the true data.\n"
   ]
  },
  {
   "cell_type": "code",
   "execution_count": 16,
   "metadata": {
    "colab": {
     "base_uri": "https://localhost:8080/"
    },
    "executionInfo": {
     "elapsed": 1379,
     "status": "ok",
     "timestamp": 1614210907515,
     "user": {
      "displayName": "Ikenna Nwosu",
      "photoUrl": "https://lh3.googleusercontent.com/-2H_7UMFdOAs/AAAAAAAAAAI/AAAAAAAAAK8/OwPmt7MzO0s/s64/photo.jpg",
      "userId": "06467414860772016903"
     },
     "user_tz": 0
    },
    "id": "phH8VpepKLP6",
    "outputId": "d2e2be61-c1eb-4364-af30-3b0e94298a11"
   },
   "outputs": [
    {
     "name": "stdout",
     "output_type": "stream",
     "text": [
      "32/32 [==============================] - 1s 20ms/step - loss: 0.3151 - accuracy: 0.8750\n",
      "Test score: 0.31511127948760986\n",
      "Test accuracy: 0.875\n"
     ]
    }
   ],
   "source": [
    "score, acc = model.evaluate(X_test_pad, y_test, batch_size=128)\n",
    "\n",
    "print(\"Test score:\", score)\n",
    "print(\"Test accuracy:\", acc)"
   ]
  },
  {
   "cell_type": "markdown",
   "metadata": {
    "id": "Rqc70O9cKLP6"
   },
   "source": [
    "## Plotting the Accuracy and Loss "
   ]
  },
  {
   "cell_type": "code",
   "execution_count": 17,
   "metadata": {
    "colab": {
     "base_uri": "https://localhost:8080/",
     "height": 590
    },
    "executionInfo": {
     "elapsed": 686,
     "status": "ok",
     "timestamp": 1614210928268,
     "user": {
      "displayName": "Ikenna Nwosu",
      "photoUrl": "https://lh3.googleusercontent.com/-2H_7UMFdOAs/AAAAAAAAAAI/AAAAAAAAAK8/OwPmt7MzO0s/s64/photo.jpg",
      "userId": "06467414860772016903"
     },
     "user_tz": 0
    },
    "id": "fuAAPT3iKLP6",
    "outputId": "3a5ce025-585e-4b7b-fc03-64aa10e2e384"
   },
   "outputs": [
    {
     "name": "stdout",
     "output_type": "stream",
     "text": [
      "dict_keys(['loss', 'accuracy', 'val_loss', 'val_accuracy'])\n"
     ]
    },
    {
     "data": {
      "image/png": "[encoded data removed]",
      "text/plain": [
       "<Figure size 432x288 with 1 Axes>"
      ]
     },
     "metadata": {
      "needs_background": "light"
     },
     "output_type": "display_data"
    },
    {
     "data": {
      "image/png": "[encoded data removed]",
      "text/plain": [
       "<Figure size 432x288 with 1 Axes>"
      ]
     },
     "metadata": {
      "needs_background": "light"
     },
     "output_type": "display_data"
    }
   ],
   "source": [
    "print(history.history.keys())\n",
    "\n",
    "# accuracy\n",
    "plt.plot(history.history['accuracy'])\n",
    "plt.plot(history.history['val_accuracy'])\n",
    "plt.title(\"model accuracy\")\n",
    "plt.ylabel(\"accuracy\")\n",
    "plt.xlabel(\"epoch\")\n",
    "plt.legend([\"train\", \"validation\"], loc=\"upper left\")\n",
    "plt.show()\n",
    "\n",
    "# loss\n",
    "\n",
    "plt.plot(history.history['loss'])\n",
    "plt.plot(history.history['val_loss'])\n",
    "plt.title(\"model loss\")\n",
    "plt.ylabel(\"loss\")\n",
    "plt.xlabel(\"epoch\")\n",
    "plt.legend([\"train\", \"validation\"], loc=\"upper left\")\n",
    "plt.show()"
   ]
  },
  {
   "cell_type": "markdown",
   "metadata": {
    "id": "hdW9uemIKLP7"
   },
   "source": [
    "## Testing the Model on Sample data\n"
   ]
  },
  {
   "cell_type": "code",
   "execution_count": 18,
   "metadata": {
    "colab": {
     "base_uri": "https://localhost:8080/"
    },
    "executionInfo": {
     "elapsed": 719,
     "status": "ok",
     "timestamp": 1614210936472,
     "user": {
      "displayName": "Ikenna Nwosu",
      "photoUrl": "https://lh3.googleusercontent.com/-2H_7UMFdOAs/AAAAAAAAAAI/AAAAAAAAAK8/OwPmt7MzO0s/s64/photo.jpg",
      "userId": "06467414860772016903"
     },
     "user_tz": 0
    },
    "id": "dWdNNVjfKLP7",
    "outputId": "b2bbf99e-f82b-465a-dadb-43018d82a9d7"
   },
   "outputs": [
    {
     "data": {
      "text/plain": [
       "array([[0.9793447 ],\n",
       "       [0.48402944]], dtype=float32)"
      ]
     },
     "execution_count": 18,
     "metadata": {},
     "output_type": "execute_result"
    }
   ],
   "source": [
    "test_sample_1 = \"The movie was fantastic! I liked it!!\"\n",
    "test_sample_2 = \"Not a great movie, it was really bad..\"\n",
    "\n",
    "test_samples = [test_sample_1, test_sample_2]\n",
    "\n",
    "test_samples_tokens = tokenizer_obj.texts_to_sequences(test_samples)\n",
    "test_samples_tokens_pad = pad_sequences(test_samples_tokens, maxlen=max_length)\n",
    "\n",
    "# predict\n",
    "model.predict(x=test_samples_tokens_pad)"
   ]
  },
  {
   "cell_type": "code",
   "execution_count": null,
   "metadata": {
    "id": "4x0k9d52eCs_"
   },
   "outputs": [],
   "source": []
  }
 ],
 "metadata": {
  "colab": {
   "name": "Copy of Text Classification Using Word2Vec and LSTMs on Keras.ipynb",
   "provenance": [
    {
     "file_id": "15IDRVe-liH55VnO3tqcu0Ml1dsQijYA5",
     "timestamp": 1614210981069
    }
   ],
   "toc_visible": true
  },
  "kernelspec": {
   "display_name": "Python 3",
   "language": "python",
   "name": "python3"
  },
  "language_info": {
   "codemirror_mode": {
    "name": "ipython",
    "version": 3
   },
   "file_extension": ".py",
   "mimetype": "text/x-python",
   "name": "python",
   "nbconvert_exporter": "python",
   "pygments_lexer": "ipython3",
   "version": "3.8.5"
  }
 },
 "nbformat": 4,
 "nbformat_minor": 1
}
